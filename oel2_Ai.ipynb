{
 "cells": [
  {
   "cell_type": "markdown",
   "id": "bd6bcf9f-d9e7-4204-ae0a-36660c3b2dc8",
   "metadata": {},
   "source": [
    "## DFS"
   ]
  },
  {
   "cell_type": "code",
   "execution_count": 55,
   "id": "babf64d3-9ada-45e2-a487-2c6e930e348c",
   "metadata": {},
   "outputs": [
    {
     "name": "stdout",
     "output_type": "stream",
     "text": [
      "A\n",
      "B\n",
      "D\n",
      "Goal Node found! G\n",
      "Total Cost: 13\n"
     ]
    },
    {
     "data": {
      "text/plain": [
       "True"
      ]
     },
     "execution_count": 55,
     "metadata": {},
     "output_type": "execute_result"
    }
   ],
   "source": [
    "graph = {\n",
    "    'A': [('B', 6), ('C', 2)],\n",
    "    'B': [('D', 5), ('E', 3)],\n",
    "    'C': [('F', 4)],\n",
    "    'D': [('G', 2)],\n",
    "    'E': [('G', 6)],\n",
    "    'F': [('G', 1)],\n",
    "    'G': []\n",
    "}\n",
    "\n",
    "visited = set()\n",
    "\n",
    "def dfs(visited, graph, root, goalNode, cost_so_far):\n",
    "    if root == goalNode:\n",
    "        print(\"Goal Node found!\", goalNode)\n",
    "        print(\"Total Cost:\", cost_so_far)\n",
    "        return True  \n",
    "    \n",
    "    elif root not in visited:\n",
    "        print(root)\n",
    "        visited.add(root)\n",
    "        for neighbour, cost in graph[root]: \n",
    "            if dfs(visited, graph, neighbour, goalNode, cost_so_far + cost):\n",
    "                return True  \n",
    "\n",
    "    return False  \n",
    "    \n",
    "goalNode = 'G'\n",
    "dfs(visited, graph, 'A', goalNode, 0)"
   ]
  },
  {
   "cell_type": "markdown",
   "id": "8efc89c1-cd19-4d2f-8587-c32838b235c5",
   "metadata": {},
   "source": [
    "## A*"
   ]
  },
  {
   "cell_type": "code",
   "execution_count": 58,
   "id": "c7dfbacc-134c-40cb-a455-1d8e98c587b9",
   "metadata": {},
   "outputs": [
    {
     "name": "stdout",
     "output_type": "stream",
     "text": [
      "Goal found: G\n",
      "Path: ['A', 'C', 'F', 'G']\n",
      "Total Cost: 7\n"
     ]
    }
   ],
   "source": [
    "import heapq\n",
    "\n",
    "# Graph with neighbors and their costs\n",
    "graph = {\n",
    "    'A': [('B', 6), ('C', 2)],\n",
    "    'B': [('D', 5), ('E', 3)],\n",
    "    'C': [('F', 4)],\n",
    "    'D': [('G', 2)],\n",
    "    'E': [('G', 6)],\n",
    "    'F': [('G', 1)],\n",
    "    'G': []\n",
    "}\n",
    "\n",
    "h = {'A': 7, 'B': 6, 'C': 4, 'D': 3, 'E': 5, 'F': 2, 'G': 0}\n",
    "\n",
    "def Astar(graph, start, goal):\n",
    "    open_set = []\n",
    "    closed_list = []\n",
    "\n",
    "    while open_set:\n",
    "        f, g, current, path = \n",
    "\n",
    "        if current == goal:\n",
    "            print(\"Goal found:\", current)\n",
    "            print(\"Path:\", path)\n",
    "            print(\"Total Cost:\", g)\n",
    "            return\n",
    "\n",
    "        for neighbor, cost in graph[current]:\n",
    "            new_g = g + cost\n",
    "            new_f = new_g + heuristic[neighbor]\n",
    "    print(\"Goal not reachable\")\n",
    "\n",
    "aSt(graph, 'A', 'G')"
   ]
  },
  {
   "cell_type": "code",
   "execution_count": null,
   "id": "e67f5e5a-6ce0-428b-af33-4f6774352b4e",
   "metadata": {},
   "outputs": [],
   "source": []
  }
 ],
 "metadata": {
  "kernelspec": {
   "display_name": "Python 3 (ipykernel)",
   "language": "python",
   "name": "python3"
  },
  "language_info": {
   "codemirror_mode": {
    "name": "ipython",
    "version": 3
   },
   "file_extension": ".py",
   "mimetype": "text/x-python",
   "name": "python",
   "nbconvert_exporter": "python",
   "pygments_lexer": "ipython3",
   "version": "3.13.1"
  }
 },
 "nbformat": 4,
 "nbformat_minor": 5
}
